{
  "nbformat": 4,
  "nbformat_minor": 0,
  "metadata": {
    "kernelspec": {
      "display_name": "Python 3",
      "language": "python",
      "name": "python3"
    },
    "language_info": {
      "codemirror_mode": {
        "name": "ipython",
        "version": 3
      },
      "file_extension": ".py",
      "mimetype": "text/x-python",
      "name": "python",
      "nbconvert_exporter": "python",
      "pygments_lexer": "ipython3",
      "version": "3.7.3"
    },
    "colab": {
      "name": "miniproject.ipynb",
      "provenance": []
    }
  },
  "cells": [
    {
      "cell_type": "code",
      "metadata": {
        "id": "gjjyt9_tlOAn",
        "outputId": "dc68be0b-99f5-460d-df29-b62f61237b8b",
        "colab": {
          "base_uri": "https://localhost:8080/",
          "height": 68
        }
      },
      "source": [
        "# Idea of persisting models is that larger datasets may take minutes or hours to train a model so we don't wanna build and train a model everytime the program runs. Ideal practice is to every once in a while build and train a model and save it for later to make predictions in the program.\n",
        "\n",
        "import pandas as pd\n",
        "from sklearn.tree import DecisionTreeClassifier\n",
        "from sklearn.model_selection import train_test_split\n",
        "from sklearn.metrics import accuracy_score\n",
        "# --------------------------------------------------------------------------------------------------------------------\n",
        "from sklearn.externals import joblib\n",
        "# joblib object has methods for saving and loading models\n",
        "# --------------------------------------------------------------------------------------------------------------------\n",
        "\n",
        "# # Importing the data\n",
        "music_data = pd.read_csv('music.csv')\n",
        "# # Preparing data - X (input set) and y (output set). Note: No cleaning is required since there are no null values or duplicates in the dataset\n",
        "X = music_data.drop(columns=['genre'])\n",
        "y = music_data['genre']\n",
        "# # Spliting input and output dataset into input and output training and testing dataset (usually keep 20% of dataset from testing while 80% fro training the model). Note: More data we give the model to train the more accurate predictions it'll make.\n",
        "X_train, X_test, y_train, y_test = train_test_split(X, y, test_size=0.2)\n",
        "\n",
        "# # Learning and Predicting\n",
        "# # Create a model using a machine learning algorithm like DecisionTree or Neural-Network etc. The choice of algorithm depends on its performance and accuracy\n",
        "model = DecisionTreeClassifier()\n",
        "# # Training model with input and output training set\n",
        "model.fit(X_train, y_train)\n",
        "\n",
        "# --------------------------------------------------------------------------------------------------------------------\n",
        "# After training the model, save the model as a .joblib file\n",
        "joblib.dump(model, 'recommender.joblib')\n",
        "# --------------------------------------------------------------------------------------------------------------------\n",
        "\n",
        "# --------------------------------------------------------------------------------------------------------------------\n",
        "# Load the trained model\n",
        "model = joblib.load('recommender.joblib')\n",
        "# --------------------------------------------------------------------------------------------------------------------\n",
        "\n",
        "# Making predictions with input test dataset\n",
        "predictions = model.predict(X_test)\n",
        "predictions2 = model.predict([[21, 1], [39, 0]]) \n",
        "#returns 'array(['HipHop', 'Classical'], dtype=object)'\n",
        "print(predictions)\n",
        "print(predictions2)\n",
        "score = accuracy_score(y_test, predictions)\n",
        "score\n"
      ],
      "execution_count": 8,
      "outputs": [
        {
          "output_type": "stream",
          "text": [
            "['Jazz' 'Classical' 'HipHop' 'Acoustic']\n",
            "['HipHop' 'Classical']\n"
          ],
          "name": "stdout"
        },
        {
          "output_type": "execute_result",
          "data": {
            "text/plain": [
              "1.0"
            ]
          },
          "metadata": {
            "tags": []
          },
          "execution_count": 8
        }
      ]
    },
    {
      "cell_type": "code",
      "metadata": {
        "id": "5F1c8mSOlOAt"
      },
      "source": [
        ""
      ],
      "execution_count": null,
      "outputs": []
    }
  ]
}